{
 "cells": [
  {
   "cell_type": "code",
   "execution_count": 20,
   "id": "418a52ec",
   "metadata": {
    "scrolled": true
   },
   "outputs": [
    {
     "name": "stdout",
     "output_type": "stream",
     "text": [
      "Pessoa: construtor\n",
      "1234567\n",
      "Walkiria\n",
      "[<__main__.Conta object at 0x7f56e57ea940>, <__main__.Conta object at 0x7f56e579c8b0>]\n"
     ]
    }
   ],
   "source": [
    "# Classe \n",
    "# tipo de dado -> abstração\n",
    "#  - atributos\n",
    "#  - metodo construtor (inicializar o objeto)\n",
    "#  - metodo \n",
    "\n",
    "class Pessoa():\n",
    "    #metodo construtor da classe\n",
    "#     def __init__(self):\n",
    "#         print(\"Pessoa: construtor\")\n",
    "#         # 1.o atributo cpf\n",
    "#         # 2.o atributo nome \n",
    "#         self.cpf = None # self significa do proprio objeto (na mesma regiao de memoria vai ter esse atributo)\n",
    "#         self.nome = None \n",
    "\n",
    "    def __init__(self, cpf, nome):\n",
    "        print(\"Pessoa: construtor\")\n",
    "        # 1.o atributo cpf\n",
    "        # 2.o atributo nome \n",
    "        self.cpf = cpf # self significa do proprio objeto (na mesma regiao de memoria vai ter esse atributo)\n",
    "        self.nome = nome\n",
    "        self.lista_conta_correntes = []\n",
    "        \n",
    "    def validar_cpf(self, cpf):\n",
    "        return False\n",
    "    \n",
    "    # Metodo / funcao -> sobre os dados deste objeto \n",
    "    def set_cpf(self, cpf):\n",
    "        #valida cpf\n",
    "        if self.validar_cpf(cpf):\n",
    "            self.cpf = cpf\n",
    "        else:\n",
    "            raise AttributeError('cpf deve seguir as regras')\n",
    "            \n",
    "    def adicionar_conta_corrente(self, conta):\n",
    "        if isinstance(conta, Conta):\n",
    "            self.lista_conta_correntes.append(conta)\n",
    "        else:\n",
    "            raise AttributeError('conta invalida ')\n",
    "        \n",
    "    def print(self):\n",
    "        print(self.cpf)\n",
    "        print(self.nome)\n",
    "        print(self.lista_conta_correntes)\n",
    "        \n",
    "# objeto -> instancia de uma classe -> alocação de memoria RAM para representar um poligono \n",
    "\n",
    "# p1 = Pessoa() #chama o construtor\n",
    "# print(p1) # printa a regiao de memoria (endereco virtual)\n",
    "p1 = Pessoa('1234567', 'Walkiria', ) #chama o construtor\n",
    "\n",
    "c1 = Conta('1234', '5678', 272.0)\n",
    "c2 = Conta('5678', '91011', 50.0)\n",
    "p1.adicionar_conta_corrente(c1)\n",
    "p1.adicionar_conta_corrente(c2)\n",
    "p1.print()"
   ]
  },
  {
   "cell_type": "code",
   "execution_count": 21,
   "id": "62c69ac1",
   "metadata": {},
   "outputs": [],
   "source": [
    "class Conta:\n",
    "    #metodo construtor - primeiro objeto \n",
    "    def __init__(self, agencia, numero, saldo):\n",
    "        self.__agencia = None\n",
    "        self.numero = None\n",
    "        self.saldo = 0\n",
    "        \n",
    "        if agencia is not None and isinstance(agencia, str):\n",
    "            self.__agencia = agencia\n",
    "        else:\n",
    "            raise AttributeError('agencia invalida')\n",
    "            \n",
    "        if numero is not None and isinstance(numero, str):\n",
    "            self.numero = numero\n",
    "        else:\n",
    "            raise AttributeError('numero invalida')\n",
    "            \n",
    "        if isinstance(saldo, float):\n",
    "            self.saldo=saldo\n",
    "        else:\n",
    "            raise AttributeError('saldo invalido')\n",
    "        \n",
    "    def set_agencia(self, agencia):\n",
    "        self.__agencia = agencia\n",
    "        \n",
    "    def set_numero(self, numero):\n",
    "        self.numero = numero \n",
    "    \n",
    "    def incremento(self, valor):\n",
    "        self.saldo += valor\n",
    "    \n",
    "    def decremento(self, valor):\n",
    "        self.saldo -= valor\n",
    "    \n",
    "    def get_agencia(self):\n",
    "        return self.__agencia\n",
    "    \n",
    "    def get_numero(self):\n",
    "        return self.numero\n",
    "    \n",
    "    \n",
    "    "
   ]
  },
  {
   "cell_type": "code",
   "execution_count": null,
   "id": "fc2beea6",
   "metadata": {},
   "outputs": [],
   "source": [
    "# construindo a classe em que tudo que é relacionado a Pessoa está na classe - atributos e metodos que operam sobre a classe pessoa "
   ]
  },
  {
   "cell_type": "code",
   "execution_count": 22,
   "id": "ac89a82b",
   "metadata": {},
   "outputs": [],
   "source": [
    "c1 = Conta('1234', '5678', 272.0)"
   ]
  },
  {
   "cell_type": "code",
   "execution_count": 23,
   "id": "d638ebdf",
   "metadata": {},
   "outputs": [
    {
     "name": "stdout",
     "output_type": "stream",
     "text": [
      "1234\n"
     ]
    }
   ],
   "source": [
    "print(c1.get_agencia())"
   ]
  },
  {
   "cell_type": "code",
   "execution_count": 24,
   "id": "e7c75fc5",
   "metadata": {
    "scrolled": true
   },
   "outputs": [
    {
     "ename": "AttributeError",
     "evalue": "'Conta' object has no attribute 'agencia'",
     "output_type": "error",
     "traceback": [
      "\u001b[0;31m---------------------------------------------------------------------------\u001b[0m",
      "\u001b[0;31mAttributeError\u001b[0m                            Traceback (most recent call last)",
      "\u001b[0;32m<ipython-input-24-58f440ac2be3>\u001b[0m in \u001b[0;36m<module>\u001b[0;34m\u001b[0m\n\u001b[0;32m----> 1\u001b[0;31m \u001b[0mprint\u001b[0m\u001b[0;34m(\u001b[0m\u001b[0mc1\u001b[0m\u001b[0;34m.\u001b[0m\u001b[0magencia\u001b[0m\u001b[0;34m(\u001b[0m\u001b[0;34m)\u001b[0m\u001b[0;34m)\u001b[0m\u001b[0;34m\u001b[0m\u001b[0;34m\u001b[0m\u001b[0m\n\u001b[0m",
      "\u001b[0;31mAttributeError\u001b[0m: 'Conta' object has no attribute 'agencia'"
     ]
    }
   ],
   "source": [
    "print(c1.agencia())"
   ]
  },
  {
   "cell_type": "code",
   "execution_count": 25,
   "id": "0abd9db8",
   "metadata": {},
   "outputs": [],
   "source": [
    "class Mamifero:\n",
    "    # ...\n",
    "    def m1(self):\n",
    "        print('Mamifero')\n",
    "\n",
    "#Heranca\n",
    "# Heranca é, em teoria, somente válida se a subclasse é uma superclasse \n",
    "class Pessoa(Mamifero):\n",
    "    def m2(self):\n",
    "        print('Pessoa')"
   ]
  },
  {
   "cell_type": "code",
   "execution_count": 29,
   "id": "72493ff1",
   "metadata": {},
   "outputs": [
    {
     "name": "stdout",
     "output_type": "stream",
     "text": [
      "Mamifero\n",
      "Pessoa\n"
     ]
    }
   ],
   "source": [
    "p1 = Pessoa()\n",
    "p1.m1()\n",
    "p1.m2()"
   ]
  }
 ],
 "metadata": {
  "hide_input": false,
  "kernelspec": {
   "display_name": "Python 3",
   "language": "python",
   "name": "python3"
  },
  "language_info": {
   "codemirror_mode": {
    "name": "ipython",
    "version": 3
   },
   "file_extension": ".py",
   "mimetype": "text/x-python",
   "name": "python",
   "nbconvert_exporter": "python",
   "pygments_lexer": "ipython3",
   "version": "3.8.8"
  },
  "toc": {
   "base_numbering": 1,
   "nav_menu": {},
   "number_sections": true,
   "sideBar": true,
   "skip_h1_title": false,
   "title_cell": "Table of Contents",
   "title_sidebar": "Contents",
   "toc_cell": false,
   "toc_position": {},
   "toc_section_display": true,
   "toc_window_display": false
  }
 },
 "nbformat": 4,
 "nbformat_minor": 5
}
